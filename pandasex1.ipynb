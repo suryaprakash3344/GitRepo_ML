{
 "cells": [
  {
   "cell_type": "code",
   "execution_count": 1,
   "metadata": {},
   "outputs": [
    {
     "name": "stdout",
     "output_type": "stream",
     "text": [
      "Collecting pandas\n",
      "  Downloading pandas-2.2.2-cp311-cp311-win_amd64.whl (11.6 MB)\n",
      "                                              0.0/11.6 MB ? eta -:--:--\n",
      "                                              0.0/11.6 MB 1.3 MB/s eta 0:00:10\n",
      "                                             0.0/11.6 MB 487.6 kB/s eta 0:00:24\n",
      "                                             0.1/11.6 MB 939.4 kB/s eta 0:00:13\n",
      "                                              0.2/11.6 MB 1.1 MB/s eta 0:00:11\n",
      "                                              0.3/11.6 MB 1.4 MB/s eta 0:00:09\n",
      "     -                                        0.5/11.6 MB 1.7 MB/s eta 0:00:07\n",
      "     -                                        0.6/11.6 MB 1.9 MB/s eta 0:00:06\n",
      "     --                                       0.7/11.6 MB 2.1 MB/s eta 0:00:06\n",
      "     ---                                      0.9/11.6 MB 2.3 MB/s eta 0:00:05\n",
      "     ----                                     1.4/11.6 MB 3.1 MB/s eta 0:00:04\n",
      "     ------                                   1.8/11.6 MB 3.7 MB/s eta 0:00:03\n",
      "     -------                                  2.2/11.6 MB 4.2 MB/s eta 0:00:03\n",
      "     ---------                                2.7/11.6 MB 4.6 MB/s eta 0:00:02\n",
      "     ----------                               3.1/11.6 MB 5.0 MB/s eta 0:00:02\n",
      "     ------------                             3.6/11.6 MB 5.3 MB/s eta 0:00:02\n",
      "     -------------                            4.0/11.6 MB 5.5 MB/s eta 0:00:02\n",
      "     ---------------                          4.5/11.6 MB 5.8 MB/s eta 0:00:02\n",
      "     ----------------                         4.9/11.6 MB 6.0 MB/s eta 0:00:02\n",
      "     ------------------                       5.4/11.6 MB 6.2 MB/s eta 0:00:02\n",
      "     -------------------                      5.8/11.6 MB 6.4 MB/s eta 0:00:01\n",
      "     ---------------------                    6.3/11.6 MB 6.6 MB/s eta 0:00:01\n",
      "     -----------------------                  6.7/11.6 MB 6.7 MB/s eta 0:00:01\n",
      "     ------------------------                 7.2/11.6 MB 6.8 MB/s eta 0:00:01\n",
      "     --------------------------               7.6/11.6 MB 6.9 MB/s eta 0:00:01\n",
      "     ---------------------------              8.0/11.6 MB 7.0 MB/s eta 0:00:01\n",
      "     -----------------------------            8.5/11.6 MB 7.1 MB/s eta 0:00:01\n",
      "     ------------------------------           8.9/11.6 MB 7.2 MB/s eta 0:00:01\n",
      "     --------------------------------         9.4/11.6 MB 7.3 MB/s eta 0:00:01\n",
      "     ---------------------------------        9.8/11.6 MB 7.4 MB/s eta 0:00:01\n",
      "     -----------------------------------      10.3/11.6 MB 8.0 MB/s eta 0:00:01\n",
      "     -------------------------------------    10.8/11.6 MB 9.0 MB/s eta 0:00:01\n",
      "     --------------------------------------   11.2/11.6 MB 9.6 MB/s eta 0:00:01\n",
      "     ---------------------------------------  11.6/11.6 MB 9.6 MB/s eta 0:00:01\n",
      "     ---------------------------------------  11.6/11.6 MB 9.6 MB/s eta 0:00:01\n",
      "     ---------------------------------------  11.6/11.6 MB 9.6 MB/s eta 0:00:01\n",
      "     ---------------------------------------  11.6/11.6 MB 9.6 MB/s eta 0:00:01\n",
      "     ---------------------------------------  11.6/11.6 MB 9.6 MB/s eta 0:00:01\n",
      "     ---------------------------------------  11.6/11.6 MB 9.6 MB/s eta 0:00:01\n",
      "     ---------------------------------------- 11.6/11.6 MB 7.7 MB/s eta 0:00:00\n",
      "Requirement already satisfied: numpy>=1.23.2 in c:\\python311\\lib\\site-packages (from pandas) (2.0.0)\n",
      "Requirement already satisfied: python-dateutil>=2.8.2 in c:\\users\\administrator\\appdata\\roaming\\python\\python311\\site-packages (from pandas) (2.9.0.post0)\n",
      "Collecting pytz>=2020.1 (from pandas)\n",
      "  Downloading pytz-2024.1-py2.py3-none-any.whl (505 kB)\n",
      "                                              0.0/505.5 kB ? eta -:--:--\n",
      "     ------------------------------------  501.8/505.5 kB 15.9 MB/s eta 0:00:01\n",
      "     -------------------------------------- 505.5/505.5 kB 6.3 MB/s eta 0:00:00\n",
      "Collecting tzdata>=2022.7 (from pandas)\n",
      "  Downloading tzdata-2024.1-py2.py3-none-any.whl (345 kB)\n",
      "                                              0.0/345.4 kB ? eta -:--:--\n",
      "     ------------------------------------  337.9/345.4 kB 10.2 MB/s eta 0:00:01\n",
      "     -------------------------------------- 345.4/345.4 kB 5.3 MB/s eta 0:00:00\n",
      "Requirement already satisfied: six>=1.5 in c:\\users\\administrator\\appdata\\roaming\\python\\python311\\site-packages (from python-dateutil>=2.8.2->pandas) (1.16.0)\n",
      "Installing collected packages: pytz, tzdata, pandas\n",
      "Successfully installed pandas-2.2.2 pytz-2024.1 tzdata-2024.1\n",
      "Note: you may need to restart the kernel to use updated packages.\n"
     ]
    },
    {
     "name": "stderr",
     "output_type": "stream",
     "text": [
      "\n",
      "[notice] A new release of pip is available: 23.1.2 -> 24.0\n",
      "[notice] To update, run: python.exe -m pip install --upgrade pip\n"
     ]
    }
   ],
   "source": [
    "pip install pandas\n"
   ]
  },
  {
   "cell_type": "code",
   "execution_count": 2,
   "metadata": {},
   "outputs": [],
   "source": [
    "import pandas as pd\n"
   ]
  },
  {
   "cell_type": "code",
   "execution_count": 4,
   "metadata": {},
   "outputs": [
    {
     "name": "stdout",
     "output_type": "stream",
     "text": [
      "0    10\n",
      "1    20\n",
      "2    30\n",
      "3    40\n",
      "dtype: int64\n",
      "A    10\n",
      "B    20\n",
      "C    30\n",
      "D    40\n",
      "dtype: int64\n"
     ]
    }
   ],
   "source": [
    "# data=[10,20,30,40]\n",
    "# # series=pd.Series(data)\n",
    "# # print(series)\n",
    "# cust_Index=['A','B','C','D']\n",
    "# series=pd.Series(data,index=cust_Index)\n",
    "# print(series)"
   ]
  }
 ],
 "metadata": {
  "kernelspec": {
   "display_name": "Python 3",
   "language": "python",
   "name": "python3"
  },
  "language_info": {
   "codemirror_mode": {
    "name": "ipython",
    "version": 3
   },
   "file_extension": ".py",
   "mimetype": "text/x-python",
   "name": "python",
   "nbconvert_exporter": "python",
   "pygments_lexer": "ipython3",
   "version": "3.11.4"
  }
 },
 "nbformat": 4,
 "nbformat_minor": 2
}
