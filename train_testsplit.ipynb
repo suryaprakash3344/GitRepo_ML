{
 "cells": [
  {
   "cell_type": "code",
   "execution_count": 7,
   "metadata": {},
   "outputs": [
    {
     "name": "stdout",
     "output_type": "stream",
     "text": [
      "3\n"
     ]
    }
   ],
   "source": [
    "import pandas as pd\n",
    "from sklearn.model_selection import train_test_split\n",
    "data={'feature 1':[1,2,3,4,5,6,7,8,9,10],\n",
    "      'feature 2':[10,9,8,7,6,5,4,3,2,1],\n",
    "      'target':[0,0,1,0,1,1,0,1,1,0]\n",
    "      }\n",
    "df=pd.DataFrame(data)\n",
    "x=df[['feature 1','feature 2']]\n",
    "y=df[['target']]\n",
    "x_train,x_test,y_train,y_test=train_test_split(x,y,test_size=0.25,random_state=42)\n",
    "len(x_train)\n",
    "print(len(x_test))"
   ]
  }
 ],
 "metadata": {
  "kernelspec": {
   "display_name": "Python 3",
   "language": "python",
   "name": "python3"
  },
  "language_info": {
   "codemirror_mode": {
    "name": "ipython",
    "version": 3
   },
   "file_extension": ".py",
   "mimetype": "text/x-python",
   "name": "python",
   "nbconvert_exporter": "python",
   "pygments_lexer": "ipython3",
   "version": "3.11.4"
  }
 },
 "nbformat": 4,
 "nbformat_minor": 2
}
