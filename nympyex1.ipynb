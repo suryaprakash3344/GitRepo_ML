{
 "cells": [
  {
   "cell_type": "code",
   "execution_count": 1,
   "metadata": {},
   "outputs": [
    {
     "name": "stdout",
     "output_type": "stream",
     "text": [
      "Collecting numpyNote: you may need to restart the kernel to use updated packages.\n"
     ]
    },
    {
     "name": "stderr",
     "output_type": "stream",
     "text": [
      "\n",
      "[notice] A new release of pip is available: 23.1.2 -> 24.0\n",
      "[notice] To update, run: python.exe -m pip install --upgrade pip\n"
     ]
    },
    {
     "name": "stdout",
     "output_type": "stream",
     "text": [
      "\n",
      "  Downloading numpy-2.0.0-cp311-cp311-win_amd64.whl (16.5 MB)\n",
      "                                              0.0/16.5 MB ? eta -:--:--\n",
      "                                              0.0/16.5 MB 1.3 MB/s eta 0:00:13\n",
      "                                              0.1/16.5 MB 1.3 MB/s eta 0:00:13\n",
      "                                              0.2/16.5 MB 1.5 MB/s eta 0:00:11\n",
      "                                              0.4/16.5 MB 1.9 MB/s eta 0:00:09\n",
      "     -                                        0.6/16.5 MB 2.6 MB/s eta 0:00:07\n",
      "     -                                        0.8/16.5 MB 2.8 MB/s eta 0:00:06\n",
      "     --                                       1.0/16.5 MB 3.2 MB/s eta 0:00:05\n",
      "     ---                                      1.3/16.5 MB 3.6 MB/s eta 0:00:05\n",
      "     ---                                      1.6/16.5 MB 3.8 MB/s eta 0:00:04\n",
      "     ----                                     1.8/16.5 MB 3.9 MB/s eta 0:00:04\n",
      "     -----                                    2.1/16.5 MB 4.2 MB/s eta 0:00:04\n",
      "     -----                                    2.4/16.5 MB 4.3 MB/s eta 0:00:04\n",
      "     ------                                   2.6/16.5 MB 4.3 MB/s eta 0:00:04\n",
      "     ------                                   2.9/16.5 MB 4.5 MB/s eta 0:00:04\n",
      "     -------                                  3.2/16.5 MB 4.6 MB/s eta 0:00:03\n",
      "     --------                                 3.5/16.5 MB 4.7 MB/s eta 0:00:03\n",
      "     ---------                                3.8/16.5 MB 4.8 MB/s eta 0:00:03\n",
      "     ---------                                4.0/16.5 MB 4.9 MB/s eta 0:00:03\n",
      "     ----------                               4.3/16.5 MB 4.9 MB/s eta 0:00:03\n",
      "     -----------                              4.7/16.5 MB 5.1 MB/s eta 0:00:03\n",
      "     ------------                             5.0/16.5 MB 5.2 MB/s eta 0:00:03\n",
      "     -------------                            5.4/16.5 MB 5.3 MB/s eta 0:00:03\n",
      "     --------------                           5.8/16.5 MB 5.4 MB/s eta 0:00:02\n",
      "     --------------                           6.1/16.5 MB 5.5 MB/s eta 0:00:02\n",
      "     ---------------                          6.6/16.5 MB 5.7 MB/s eta 0:00:02\n",
      "     ----------------                         7.0/16.5 MB 5.8 MB/s eta 0:00:02\n",
      "     ------------------                       7.5/16.5 MB 6.0 MB/s eta 0:00:02\n",
      "     ------------------                       7.7/16.5 MB 6.0 MB/s eta 0:00:02\n",
      "     --------------------                     8.3/16.5 MB 6.2 MB/s eta 0:00:02\n",
      "     --------------------                     8.6/16.5 MB 6.1 MB/s eta 0:00:02\n",
      "     ---------------------                    9.0/16.5 MB 6.3 MB/s eta 0:00:02\n",
      "     ----------------------                   9.3/16.5 MB 6.3 MB/s eta 0:00:02\n",
      "     -----------------------                  9.8/16.5 MB 6.4 MB/s eta 0:00:02\n",
      "     ------------------------                 10.1/16.5 MB 6.4 MB/s eta 0:00:01\n",
      "     -------------------------                10.6/16.5 MB 7.1 MB/s eta 0:00:01\n",
      "     --------------------------               11.0/16.5 MB 7.4 MB/s eta 0:00:01\n",
      "     ---------------------------              11.5/16.5 MB 7.5 MB/s eta 0:00:01\n",
      "     -----------------------------            12.0/16.5 MB 7.8 MB/s eta 0:00:01\n",
      "     ------------------------------           12.5/16.5 MB 8.0 MB/s eta 0:00:01\n",
      "     -------------------------------          12.9/16.5 MB 8.2 MB/s eta 0:00:01\n",
      "     --------------------------------         13.4/16.5 MB 8.4 MB/s eta 0:00:01\n",
      "     ---------------------------------        14.0/16.5 MB 8.8 MB/s eta 0:00:01\n",
      "     -----------------------------------      14.5/16.5 MB 9.1 MB/s eta 0:00:01\n",
      "     ------------------------------------     15.0/16.5 MB 9.2 MB/s eta 0:00:01\n",
      "     -------------------------------------    15.5/16.5 MB 9.5 MB/s eta 0:00:01\n",
      "     --------------------------------------   16.0/16.5 MB 9.6 MB/s eta 0:00:01\n",
      "     ---------------------------------------  16.5/16.5 MB 9.8 MB/s eta 0:00:01\n",
      "     ---------------------------------------  16.5/16.5 MB 9.8 MB/s eta 0:00:01\n",
      "     ---------------------------------------  16.5/16.5 MB 9.8 MB/s eta 0:00:01\n",
      "     ---------------------------------------  16.5/16.5 MB 9.8 MB/s eta 0:00:01\n",
      "     ---------------------------------------  16.5/16.5 MB 9.8 MB/s eta 0:00:01\n",
      "     ---------------------------------------  16.5/16.5 MB 9.8 MB/s eta 0:00:01\n",
      "     ---------------------------------------- 16.5/16.5 MB 7.9 MB/s eta 0:00:00\n",
      "Installing collected packages: numpy\n",
      "Successfully installed numpy-2.0.0\n"
     ]
    }
   ],
   "source": [
    "pip install numpy"
   ]
  },
  {
   "cell_type": "code",
   "execution_count": 2,
   "metadata": {},
   "outputs": [],
   "source": [
    "import numpy as np\n"
   ]
  },
  {
   "cell_type": "code",
   "execution_count": 3,
   "metadata": {},
   "outputs": [],
   "source": [
    "data1D=np.array([1,2,3,4,5])\n"
   ]
  },
  {
   "cell_type": "code",
   "execution_count": 6,
   "metadata": {},
   "outputs": [],
   "source": [
    "data2D=np.array([[1,2,3],[4,5,6]])"
   ]
  },
  {
   "cell_type": "code",
   "execution_count": 7,
   "metadata": {},
   "outputs": [
    {
     "name": "stdout",
     "output_type": "stream",
     "text": [
      "(5,)\n"
     ]
    }
   ],
   "source": [
    "print(data1D.shape)"
   ]
  },
  {
   "cell_type": "code",
   "execution_count": 8,
   "metadata": {},
   "outputs": [
    {
     "name": "stdout",
     "output_type": "stream",
     "text": [
      "(2, 3)\n"
     ]
    }
   ],
   "source": [
    "print(data2D.shape)"
   ]
  },
  {
   "cell_type": "code",
   "execution_count": 9,
   "metadata": {},
   "outputs": [
    {
     "name": "stdout",
     "output_type": "stream",
     "text": [
      "[[1 2]\n",
      " [3 4]\n",
      " [5 6]]\n"
     ]
    }
   ],
   "source": [
    "reshape_Arr=data2D.reshape(3,2)\n",
    "print(reshape_Arr)"
   ]
  },
  {
   "cell_type": "code",
   "execution_count": 11,
   "metadata": {},
   "outputs": [
    {
     "name": "stdout",
     "output_type": "stream",
     "text": [
      "2\n"
     ]
    }
   ],
   "source": [
    "print(data2D.ndim)"
   ]
  },
  {
   "cell_type": "markdown",
   "metadata": {},
   "source": [
    "<!-- Array Indexing & Slicing -->\n"
   ]
  },
  {
   "cell_type": "code",
   "execution_count": 13,
   "metadata": {},
   "outputs": [
    {
     "name": "stdout",
     "output_type": "stream",
     "text": [
      "1\n"
     ]
    }
   ],
   "source": [
    "print(data1D[0])"
   ]
  },
  {
   "cell_type": "code",
   "execution_count": 15,
   "metadata": {},
   "outputs": [
    {
     "name": "stdout",
     "output_type": "stream",
     "text": [
      "6\n"
     ]
    }
   ],
   "source": [
    "print(data2D[1,2])"
   ]
  },
  {
   "cell_type": "code",
   "execution_count": 17,
   "metadata": {},
   "outputs": [
    {
     "data": {
      "text/plain": [
       "array([[1, 2, 3],\n",
       "       [4, 5, 6]])"
      ]
     },
     "execution_count": 17,
     "metadata": {},
     "output_type": "execute_result"
    }
   ],
   "source": [
    "data2D"
   ]
  },
  {
   "cell_type": "code",
   "execution_count": 16,
   "metadata": {},
   "outputs": [
    {
     "name": "stdout",
     "output_type": "stream",
     "text": [
      "[1 2 3]\n"
     ]
    }
   ],
   "source": [
    "# Slicing\n",
    "\n",
    "print(data1D[:3])"
   ]
  },
  {
   "cell_type": "code",
   "execution_count": 18,
   "metadata": {},
   "outputs": [
    {
     "name": "stdout",
     "output_type": "stream",
     "text": [
      "[[2 3]\n",
      " [5 6]]\n"
     ]
    }
   ],
   "source": [
    "print(data2D[:,1:])"
   ]
  }
 ],
 "metadata": {
  "kernelspec": {
   "display_name": "Python 3",
   "language": "python",
   "name": "python3"
  },
  "language_info": {
   "codemirror_mode": {
    "name": "ipython",
    "version": 3
   },
   "file_extension": ".py",
   "mimetype": "text/x-python",
   "name": "python",
   "nbconvert_exporter": "python",
   "pygments_lexer": "ipython3",
   "version": "3.11.4"
  }
 },
 "nbformat": 4,
 "nbformat_minor": 2
}
