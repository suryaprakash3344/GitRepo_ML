{
 "cells": [
  {
   "cell_type": "code",
   "execution_count": 3,
   "metadata": {},
   "outputs": [
    {
     "name": "stdout",
     "output_type": "stream",
     "text": [
      "Age            -0.087856\n",
      "Income         -0.447214\n",
      "LoanApproval    1.000000\n",
      "Name: LoanApproval, dtype: float64\n"
     ]
    }
   ],
   "source": [
    "import pandas as pd\n",
    "\n",
    "data={'Age':[25,29,60,62],\n",
    "      'Income':[10000,20000,30000,40000],\n",
    "      'LoanApproval':[1,0,1,0]\n",
    "      }\n",
    "\n",
    "df=pd.DataFrame(data)\n",
    "correlationItem=df.corr()['LoanApproval']\n",
    "print(correlationItem)"
   ]
  }
 ],
 "metadata": {
  "kernelspec": {
   "display_name": "Python 3",
   "language": "python",
   "name": "python3"
  },
  "language_info": {
   "codemirror_mode": {
    "name": "ipython",
    "version": 3
   },
   "file_extension": ".py",
   "mimetype": "text/x-python",
   "name": "python",
   "nbconvert_exporter": "python",
   "pygments_lexer": "ipython3",
   "version": "3.11.4"
  }
 },
 "nbformat": 4,
 "nbformat_minor": 2
}
